{
 "cells": [
  {
   "cell_type": "markdown",
   "metadata": {},
   "source": [
    "# Módulo 3 - Usar lógica booleana"
   ]
  },
  {
   "cell_type": "markdown",
   "metadata": {},
   "source": [
    "Ejercicio - Escribir declaraciones if, else, y elif"
   ]
  },
  {
   "cell_type": "code",
   "execution_count": 44,
   "metadata": {},
   "outputs": [
    {
     "name": "stdout",
     "output_type": "stream",
     "text": [
      "a no es mayor que b y que c, y b no es mayor que c, por lo que c es mayor que a y b\n"
     ]
    }
   ],
   "source": [
    "a=1\n",
    "b=2\n",
    "c=3\n",
    "if a > b:\n",
    "    print(\"a es mayor que b\")\n",
    "    if a > c:\n",
    "        print(\"a es mayor que c\")\n",
    "    else: \n",
    "        print(\"a no es mayor que b, ni tampoco mayor que c\")\n",
    "elif b > c:\n",
    "    print(\"b es mayor que c\")\n",
    "else: \n",
    "    print(\"a no es mayor que b y que c, y b no es mayor que c, por lo que c es mayor que a y b\")"
   ]
  },
  {
   "cell_type": "markdown",
   "metadata": {},
   "source": [
    "Ejercicio del asteroide"
   ]
  },
  {
   "cell_type": "code",
   "execution_count": 56,
   "metadata": {},
   "outputs": [
    {
     "name": "stdout",
     "output_type": "stream",
     "text": [
      "¡Esto no es un simulacro, el asteroide se acerca a una velocidad peligrosa!\n"
     ]
    }
   ],
   "source": [
    "velocidad=49 #la velocidad es expresada en km/s\n",
    "if velocidad > 25:\n",
    "    print(\"¡Esto no es un simulacro, el asteroide se acerca a una velocidad peligrosa!\")\n",
    "else:\n",
    "    print(\"No hay peligro, no te preocupes\")"
   ]
  },
  {
   "cell_type": "code",
   "execution_count": 55,
   "metadata": {},
   "outputs": [
    {
     "name": "stdout",
     "output_type": "stream",
     "text": [
      "Lo siento, pero hoy no hay destello en el cielo :(\n"
     ]
    }
   ],
   "source": [
    "velocidad2 = 19\n",
    "if velocidad2 > 20:\n",
    "    print('¡Hey! ¡Hay una posibilidad de que veas un destello en el cielo ahora mismo!')\n",
    "elif velocidad2 == 20:\n",
    "    print('¡Hey! ¡Hay una posibilidad de que veas un destello en el cielo ahora mismo!')\n",
    "else:\n",
    "    print('Lo siento, pero hoy no hay destello en el cielo :(')"
   ]
  },
  {
   "cell_type": "code",
   "execution_count": 54,
   "metadata": {},
   "outputs": [
    {
     "name": "stdout",
     "output_type": "stream",
     "text": [
      "¡Hey! ¡Hay una posibilidad de que veas un destello en el cielo ahora mismo!\n"
     ]
    }
   ],
   "source": [
    "velocidad3 = 25\n",
    "size = 40\n",
    "if velocidad3 > 25 and size > 25:\n",
    "    print('¡Esto no es un simulacro, el asteroide se acerca a una velocidad peligrosa!')\n",
    "elif velocidad3 >= 20:\n",
    "    print('¡Hey! ¡Hay una posibilidad de que veas un destello en el cielo ahora mismo!')\n",
    "elif velocidad3 < 25:\n",
    "    print('Sin peligro, todo controlado')\n",
    "else:\n",
    "    print('Sin peligro, todo controlado')"
   ]
  }
 ],
 "metadata": {
  "interpreter": {
   "hash": "ff17463a113a0c5694306c71cdf971dd9696dae6953b323ccc0a9a1ad5071000"
  },
  "kernelspec": {
   "display_name": "Python 3.10.0 64-bit",
   "language": "python",
   "name": "python3"
  },
  "language_info": {
   "codemirror_mode": {
    "name": "ipython",
    "version": 3
   },
   "file_extension": ".py",
   "mimetype": "text/x-python",
   "name": "python",
   "nbconvert_exporter": "python",
   "pygments_lexer": "ipython3",
   "version": "3.10.0"
  },
  "orig_nbformat": 4
 },
 "nbformat": 4,
 "nbformat_minor": 2
}
